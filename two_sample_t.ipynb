{
 "cells": [
  {
   "cell_type": "markdown",
   "metadata": {},
   "source": [
    "# Two-sample t test #\n",
    "\n",
    "# In brevi #\n",
    "\n",
    "A two-sample t test answers these questions:\n",
    "\n",
    "1. Is the average of a sample from process 1 different from the average of a sample from process 2?\n",
    "2. Is the average of a sample from process 1 greater than the average of a sample from process 2?\n",
    "3. Is the average of a sample from process 1 less than the average of a sample from process 2?\n",
    "4. Is the average of a sample from process 1 different from the average of a sample from process 2 by a predetermined amount?"
   ]
  },
  {
   "cell_type": "markdown",
   "metadata": {},
   "source": [
    "# Contents #\n",
    "\n",
    "- [Assumptions](#assumptions)\n",
    "- [Data](#data)\n",
    "- [How to use this notebook](#how-to-use-this-notebook)\n",
    "- [Quick-and-dirty](#quick-and-dirty)\n",
    "- [Graphical analyses](#graphical-analyses)\n",
    "- [Descriptive statistics](#descriptive-statistics)\n",
    "- [Hypothesis test method](#hypothesis-test-method)\n",
    "- [Confidence interval method](#confidence-interval-method)\n",
    "- [References](#references)\n",
    "- [Support](#support)"
   ]
  },
  {
   "cell_type": "markdown",
   "metadata": {},
   "source": [
    "# <a id='assumptions'></a> Assumptions #\n",
    "\n",
    "- The data are continuous ([interval](https://en.wikipedia.org/wiki/Level_of_measurement#Interval_scale) or [ratio](https://en.wikipedia.org/wiki/Level_of_measurement#Ratio_scale) scales).\n",
    "- The data in each sample follow a [normal distribution](https://en.wikipedia.org/wiki/Normal_distribution) with mean $\\mu$ and variance $\\sigma^2$.\n",
    "- The sample variances $s^2$ follow a $\\chi^2$ distribution with $\\rho$ degrees of freedom under the null hypothesis, where $\\rho$ is a positive constant.\n",
    "- $(\\overline{Y} - \\mu)$ and the sample standard deviations $s$ are independent.\n",
    "- The size of each sample may be equal or unequal.\n",
    "- The variance of each sample may be equal or unequal.\n",
    "- The data should be sampled independently from the two populations being compared."
   ]
  },
  {
   "cell_type": "markdown",
   "metadata": {},
   "source": [
    "# <a id='assumptions'></a> Data #\n",
    "\n",
    "Download the data file:\n",
    "\n",
    "[data_two_sample_t.csv](https://drive.google.com/open?id=0BzrdQfHR2I5DeWlITmM3WHVmU2M)"
   ]
  },
  {
   "cell_type": "markdown",
   "metadata": {},
   "source": [
    "# <a id='how-to-use-this-notebook'></a> How to use this notebook #\n",
    "\n",
    "1. Edit the test parameters.\n",
    "2. Create a data file.\n",
    "3. Recalculate all “In” cells."
   ]
  },
  {
   "cell_type": "code",
   "execution_count": 1,
   "metadata": {
    "collapsed": true
   },
   "outputs": [],
   "source": [
    "import pandas as pd\n",
    "import scipy.stats as stats\n",
    "import numpy as np\n",
    "import matplotlib.pyplot as plt\n",
    "from IPython.display import display_html\n",
    "\n",
    "%matplotlib inline\n",
    "%config InlineBackend.figure_format = 'svg'"
   ]
  },
  {
   "cell_type": "markdown",
   "metadata": {},
   "source": [
    "## Edit the test parameters ##\n",
    "\n",
    "Change the following parameter to suit your analysis:\n",
    "\n",
    "- signficance_level\n",
    "- hypothesized_difference"
   ]
  },
  {
   "cell_type": "code",
   "execution_count": 2,
   "metadata": {
    "collapsed": true
   },
   "outputs": [],
   "source": [
    "significance_level = 0.05\n",
    "hypothesized_difference = 7"
   ]
  },
  {
   "cell_type": "markdown",
   "metadata": {},
   "source": [
    "## Create a data file ##\n",
    "\n",
    "- There must be two columns:\n",
    "    - The **x** column contains the sample identifier (1, 2).\n",
    "    - The **y** column contains the data values.\n",
    "- The **x** label is lower case.\n",
    "- The **y** label is lower case.\n",
    "- Save it as CSV (comma-separated values) with the name **data_two_sample_t.csv**.\n",
    "- Put it in the same directory as this notebook."
   ]
  },
  {
   "cell_type": "code",
   "execution_count": 3,
   "metadata": {
    "collapsed": true
   },
   "outputs": [],
   "source": [
    "# A csv data file should be utf-8 encoded. If so, it does not require a utf-8 declaration.\n",
    "# df = pd.read_csv('data_filename.csv', encoding='utf-16')\n",
    "df = pd.read_csv('data_two_sample_t.csv')\n",
    "#sample_one = df['y'][df['x'] == 1]\n",
    "sample_one = df.loc[df['x'] == 1, :]\n",
    "#sample_two = df['y'][df['x'] == 2]\n",
    "sample_two = df.loc[df['x'] == 2, :]"
   ]
  },
  {
   "cell_type": "markdown",
   "metadata": {},
   "source": [
    "# <a id='quick-and-dirty'></a> Quick-and-dirty #\n",
    "\n",
    "Here is the minimal code to do a two-sample t test."
   ]
  },
  {
   "cell_type": "markdown",
   "metadata": {},
   "source": [
    "## Scenario 1 ##\n",
    "\n",
    "Is the average of a sample from process 1 different from the average of a sample from process 2?\n",
    "\n",
    "H<sub>o</sub>: $\\mu_1$ = $\\mu_2$ The average of process 1 equals the average of process 2.<br />\n",
    "H<sub>a</sub>: $\\mu_1$ ≠ $\\mu_2$ The average of process 1 does not equal the average of process 2.<br />"
   ]
  },
  {
   "cell_type": "code",
   "execution_count": 4,
   "metadata": {},
   "outputs": [
    {
     "data": {
      "text/plain": [
       "Ttest_indResult(statistic=-12.620591288724363, pvalue=5.2729354566085367e-30)"
      ]
     },
     "execution_count": 4,
     "metadata": {},
     "output_type": "execute_result"
    }
   ],
   "source": [
    "scenario_one_p_value = stats.ttest_ind(sample_one['y'], sample_two['y'], equal_var=True)\n",
    "scenario_one_p_value"
   ]
  },
  {
   "cell_type": "code",
   "execution_count": 16,
   "metadata": {},
   "outputs": [
    {
     "data": {
      "text/plain": [
       "scipy.stats.stats.Ttest_indResult"
      ]
     },
     "execution_count": 16,
     "metadata": {},
     "output_type": "execute_result"
    }
   ],
   "source": [
    "type(scenario_one_p_value)"
   ]
  },
  {
   "cell_type": "code",
   "execution_count": 17,
   "metadata": {},
   "outputs": [
    {
     "data": {
      "text/plain": [
       "'Ttest_indResult(statistic=-12.620591288724363, pvalue=5.2729354566085367e-30)'"
      ]
     },
     "execution_count": 17,
     "metadata": {},
     "output_type": "execute_result"
    }
   ],
   "source": [
    "repr(scenario_one_p_value)"
   ]
  },
  {
   "cell_type": "code",
   "execution_count": 6,
   "metadata": {},
   "outputs": [
    {
     "ename": "TypeError",
     "evalue": "tuple indices must be integers or slices, not str",
     "output_type": "error",
     "traceback": [
      "\u001b[0;31m---------------------------------------------------------------------------\u001b[0m",
      "\u001b[0;31mTypeError\u001b[0m                                 Traceback (most recent call last)",
      "\u001b[0;32m<ipython-input-6-475f488535bd>\u001b[0m in \u001b[0;36m<module>\u001b[0;34m()\u001b[0m\n\u001b[0;32m----> 1\u001b[0;31m \u001b[0;32mif\u001b[0m \u001b[0mscenario_one_p_value\u001b[0m\u001b[0;34m[\u001b[0m\u001b[0mscenario_one_p_value\u001b[0m\u001b[0;34m[\u001b[0m\u001b[0;34m'pvalue'\u001b[0m\u001b[0;34m]\u001b[0m\u001b[0;34m]\u001b[0m \u001b[0;34m<\u001b[0m \u001b[0msignificance_level\u001b[0m\u001b[0;34m:\u001b[0m\u001b[0;34m\u001b[0m\u001b[0m\n\u001b[0m\u001b[1;32m      2\u001b[0m     print('Statistically significant. The test statistic =',\n\u001b[1;32m      3\u001b[0m           \u001b[0mscenario_one_p_value\u001b[0m\u001b[0;34m.\u001b[0m\u001b[0mstatistic\u001b[0m\u001b[0;34m.\u001b[0m\u001b[0mround\u001b[0m\u001b[0;34m(\u001b[0m\u001b[0;36m3\u001b[0m\u001b[0;34m)\u001b[0m\u001b[0;34m,\u001b[0m\u001b[0;34m\u001b[0m\u001b[0m\n\u001b[1;32m      4\u001b[0m           '. The p value = ', scenario_one_p_value.pvalue.round(3)), '.'\n\u001b[1;32m      5\u001b[0m \u001b[0;32melse\u001b[0m\u001b[0;34m:\u001b[0m\u001b[0;34m\u001b[0m\u001b[0m\n",
      "\u001b[0;31mTypeError\u001b[0m: tuple indices must be integers or slices, not str"
     ]
    }
   ],
   "source": [
    "if scenario_one_p_value[scenario_one_p_value['pvalue']] < significance_level:\n",
    "    print('Statistically significant. The test statistic =',\n",
    "          scenario_one_p_value.statistic.round(3),\n",
    "          '. The p value = ', scenario_one_p_value.pvalue.round(3)), '.'\n",
    "else:\n",
    "    print('Not statistically significant. The test statistic =',\n",
    "          scenario_one_p_value.statistic.round(3),\n",
    "          '. The p value = ', scenario_one_p_value.pvalue.round(3)), '.'"
   ]
  },
  {
   "cell_type": "markdown",
   "metadata": {},
   "source": [
    "## Scenario 2 ##\n",
    "\n",
    "Is the average of a sample from process 1 greater than from the average of a sample from process 2?\n",
    "\n",
    "H<sub>o</sub>: $\\mu_1$ = $\\mu_2$ The average of process 1 equals the average of process 2.<br />\n",
    "H<sub>a</sub>: $\\mu_1$ > $\\mu_2$ The average of process 1 is greater than the average of process 2.<br />"
   ]
  },
  {
   "cell_type": "code",
   "execution_count": null,
   "metadata": {},
   "outputs": [],
   "source": [
    "scenario_two_p_value = stats.ttest_ind(sample_one['y'], sample_two['y'], equal_var=False)\n",
    "\n",
    "if scenario_two_p_value.pvalue < significance_level:\n",
    "    print('Statistically significant. The test statistic =',\n",
    "          scenario_two_p_value.statistic.round(3),\n",
    "          '. The p value = ', scenario_two_p_value.pvalue.round(3)), '.'\n",
    "else:\n",
    "    print('Not statistically significant. The test statistic =',\n",
    "          scenario_two_p_value.statistic.round(3),\n",
    "          '. The p value = ', scenario_two_p_value.pvalue.round(3)), '.'"
   ]
  },
  {
   "cell_type": "markdown",
   "metadata": {},
   "source": [
    "## Scenario 3 ##\n",
    "\n",
    "Is the average of a sample from process 1 less than from the average of a sample from process 2?\n",
    "\n",
    "H<sub>o</sub>: $\\mu_1$ = $\\mu_2$ The average of process 1 equals the average of process 2.<br />\n",
    "H<sub>a</sub>: $\\mu_1$ < $\\mu_2$ The average of process 1 is greater than the average of process 2.<br />\n",
    "\n",
    "<span style=\"color:red\">**EDITOR NOTE**. Add the math for scenario 3."
   ]
  },
  {
   "cell_type": "markdown",
   "metadata": {},
   "source": [
    "## Scenario 4 ##\n",
    "\n",
    "Is the average of a sample from process 1 different by a predetermined amount from the average of a sample from process 2?\n",
    "\n",
    "H<sub>o</sub>: $\\mu_1$ = $\\mu_2$ The average of process 1 equals the average of process 2.<br />\n",
    "H<sub>a</sub>: $\\mu_1$ < $\\mu_2$ The average of process 1 is greater than the average of process 2.<br />\n",
    "\n",
    "<span style=\"color:red\">**EDITOR NOTE**. The above hypotheses need editing. Add the math for scenario 3."
   ]
  },
  {
   "cell_type": "markdown",
   "metadata": {},
   "source": [
    "# <a id='graphical-analyses'></a> Graphical analyses #"
   ]
  },
  {
   "cell_type": "markdown",
   "metadata": {
    "scrolled": true
   },
   "source": [
    "## Histogram ##"
   ]
  },
  {
   "cell_type": "code",
   "execution_count": null,
   "metadata": {},
   "outputs": [],
   "source": [
    "my_histo1 = sample_one['y'].plot.hist()\n",
    "my_histo1.set_xlabel('y (data values)')\n",
    "my_histo1.set_title('Histogram of y')\n",
    "for spine in 'right', 'top':\n",
    "    my_histo1.spines[spine].set_color('none')"
   ]
  },
  {
   "cell_type": "code",
   "execution_count": null,
   "metadata": {},
   "outputs": [],
   "source": [
    "my_histo2 = sample_two['y'].plot.hist()\n",
    "my_histo2.set_xlabel('y (data values)')\n",
    "my_histo2.set_title('Histogram of y')\n",
    "for spine in 'right', 'top':\n",
    "    my_histo2.spines[spine].set_color('none')"
   ]
  },
  {
   "cell_type": "code",
   "execution_count": null,
   "metadata": {},
   "outputs": [],
   "source": [
    "ax = plt.suptitle('Histogram of y')\n",
    "ax1 = plt.subplot(121)\n",
    "sample_one['y'].plot.hist(ax=ax1)\n",
    "ax1.set_ylim(0, 50)\n",
    "ax1.set_xlim(0, 50)\n",
    "ax1.set_title('y for x = 1')\n",
    "for spine in 'right', 'top':\n",
    "    ax1.spines[spine].set_color('none')\n",
    "ax2 = plt.subplot(122)\n",
    "sample_two['y'].plot.hist(ax=ax2)\n",
    "ax2.set_ylim(0, 50)\n",
    "ax2.set_xlim(0, 50)\n",
    "ax2.set_title('y for x = 2')\n",
    "for spine in 'right', 'top':\n",
    "    ax2.spines[spine].set_color('none')"
   ]
  },
  {
   "cell_type": "code",
   "execution_count": null,
   "metadata": {},
   "outputs": [],
   "source": [
    "grid_size = (1, 2)\n",
    "plt.suptitle('Histogram of y')\n",
    "my_histo3 = plt.subplot2grid(grid_size, (0, 0))\n",
    "my_histo3.hist(sample_one['y'])\n",
    "my_histo3.set_ylim(0, 50)\n",
    "my_histo3.set_xlim(0, 50)\n",
    "for spine in 'right', 'top':\n",
    "    my_histo3.spines[spine].set_color('none')\n",
    "my_histo4 = plt.subplot2grid(grid_size, (0, 1))\n",
    "my_histo4.hist(sample_two['y'])\n",
    "my_histo4.set_ylim(0, 50)\n",
    "my_histo4.set_xlim(0, 50)\n",
    "for spine in 'right', 'top':\n",
    "    my_histo4.spines[spine].set_color('none')"
   ]
  },
  {
   "cell_type": "code",
   "execution_count": null,
   "metadata": {
    "collapsed": true
   },
   "outputs": [],
   "source": [
    "def graph_histogram():\n",
    "    ax = plt.suptitle('Histogram of y')\n",
    "    ax1 = plt.subplot(121)\n",
    "    sample_one['y'].plot.hist(ax=ax1)\n",
    "    ax1.set_title('y for x = 1')\n",
    "    for spine in 'right', 'top':\n",
    "        ax1.spines[spine].set_color('none')\n",
    "    ax2 = plt.subplot(122)\n",
    "    sample_two['y'].plot.hist(ax=ax2)\n",
    "    ax2.set_title('y for x = 2')\n",
    "    for spine in 'right', 'top':\n",
    "        ax2.spines[spine].set_color('none')"
   ]
  },
  {
   "cell_type": "code",
   "execution_count": null,
   "metadata": {},
   "outputs": [],
   "source": [
    "graph_histogram()"
   ]
  },
  {
   "cell_type": "code",
   "execution_count": null,
   "metadata": {},
   "outputs": [],
   "source": [
    "plt.figure(0)\n",
    "for i in range(1):\n",
    "    for j in range(2):\n",
    "        ax = plt.subplot2grid((1,2), (i,j))\n",
    "#        for k in (sample_one, sample_two):\n",
    "#            ax.hist(k)"
   ]
  },
  {
   "cell_type": "markdown",
   "metadata": {},
   "source": [
    "## Box plot ##"
   ]
  },
  {
   "cell_type": "code",
   "execution_count": null,
   "metadata": {},
   "outputs": [],
   "source": [
    "ax = sample_one['y'].plot.box(y='y', notch=True, showmeans=True)\n",
    "ax.set_title('Boxplot of y for x = 1')\n",
    "for spine in 'right', 'top':\n",
    "    ax.spines[spine].set_color('none')"
   ]
  },
  {
   "cell_type": "code",
   "execution_count": null,
   "metadata": {},
   "outputs": [],
   "source": [
    "ax = sample_two['y'].plot.box(y='y', notch=True, showmeans=True)\n",
    "ax.set_title('Boxplot of y for x = 1')\n",
    "for spine in 'right', 'top':\n",
    "    ax.spines[spine].set_color('none')"
   ]
  },
  {
   "cell_type": "code",
   "execution_count": null,
   "metadata": {},
   "outputs": [],
   "source": [
    "ax = plt.suptitle('Boxplot of y')\n",
    "ax1 = plt.subplot(121)\n",
    "sample_one['y'].plot.box(y='y', notch=True, showmeans=True, ax=ax1)\n",
    "ax1.set_ylim(0, 50)\n",
    "ax1.set_title('y for x = 1')\n",
    "for spine in 'right', 'top':\n",
    "    ax1.spines[spine].set_color('none')\n",
    "ax2 = plt.subplot(122)\n",
    "sample_two['y'].plot.box(y='y', notch=True, showmeans=True, ax=ax2)\n",
    "ax2.set_ylim(0, 50)\n",
    "ax2.set_title('y for x = 2')\n",
    "for spine in 'right', 'top':\n",
    "    ax2.spines[spine].set_color('none')"
   ]
  },
  {
   "cell_type": "markdown",
   "metadata": {},
   "source": [
    "## Scatter plot ##"
   ]
  },
  {
   "cell_type": "code",
   "execution_count": null,
   "metadata": {},
   "outputs": [],
   "source": [
    "ax = sample_one['y'].plot(y='y', style='.', legend=False)\n",
    "ax.set_xlabel('sample number')\n",
    "ax.set_ylabel('y (data values)')\n",
    "ax.set_title('Scatter plot of y for sample one')\n",
    "for spine in 'right', 'top':\n",
    "    ax.spines[spine].set_color('none')\n",
    "ax.autoscale(tight=False)"
   ]
  },
  {
   "cell_type": "code",
   "execution_count": null,
   "metadata": {},
   "outputs": [],
   "source": [
    "ax = sample_two['y'].plot(y='y', style='.', legend=False)\n",
    "ax.set_xlabel('sample number')\n",
    "ax.set_ylabel('y (data values)')\n",
    "ax.set_title('Scatter plot of y for sample two')\n",
    "for spine in 'right', 'top':\n",
    "    ax.spines[spine].set_color('none')\n",
    "ax.autoscale(tight=False)"
   ]
  },
  {
   "cell_type": "code",
   "execution_count": null,
   "metadata": {},
   "outputs": [],
   "source": [
    "ax = plt.suptitle('Scatter plot of y')\n",
    "ax1 = plt.subplot(121)\n",
    "sample_one['y'].plot(y='y', style='.', legend=False, ax=ax1)\n",
    "ax1.autoscale(tight=False)\n",
    "ax1.set_ylim(0, 50)\n",
    "ax1.set_title('y for sample one')\n",
    "ax1.set_xlabel('sample number')\n",
    "ax1.set_ylabel('y (data values)')\n",
    "for spine in 'right', 'top':\n",
    "    ax1.spines[spine].set_color('none')\n",
    "ax2 = plt.subplot(122)\n",
    "sample_two['y'].plot(y='y', style='.', legend=False, ax=ax2)\n",
    "ax2.autoscale(tight=False)\n",
    "ax2.set_ylim(0, 50)\n",
    "ax2.set_title('y for sample two')\n",
    "ax2.set_xlabel('sample number')\n",
    "ax2.set_ylabel('y (data values)')\n",
    "for spine in 'right', 'top':\n",
    "    ax2.spines[spine].set_color('none')"
   ]
  },
  {
   "cell_type": "markdown",
   "metadata": {},
   "source": [
    "## Normal probability plot ##"
   ]
  },
  {
   "cell_type": "code",
   "execution_count": null,
   "metadata": {},
   "outputs": [],
   "source": [
    "stats.probplot(sample_one['y'], dist=stats.norm, plot=plt);"
   ]
  },
  {
   "cell_type": "code",
   "execution_count": null,
   "metadata": {},
   "outputs": [],
   "source": [
    "stats.probplot(sample_two['y'], dist=stats.norm, plot=plt);"
   ]
  },
  {
   "cell_type": "markdown",
   "metadata": {},
   "source": [
    "<span style=\"color:red\">**EDITOR NOTE**. Need to add code for this.\n",
    "\n",
    "Using the results of the above normal plots, edit the values in the “range” in order to plot the two side-by-side with the same spread."
   ]
  },
  {
   "cell_type": "markdown",
   "metadata": {},
   "source": [
    "# <a id='descriptive-statistics'></a> Descriptive statistics #"
   ]
  },
  {
   "cell_type": "markdown",
   "metadata": {},
   "source": [
    "## Sample one ##"
   ]
  },
  {
   "cell_type": "code",
   "execution_count": null,
   "metadata": {},
   "outputs": [],
   "source": [
    "n_sample_one = sample_one['y'].size\n",
    "print('Count = ', n_sample_one)\n",
    "average_sample_one = sample_one['y'].mean()\n",
    "print('Average = ', average_sample_one)\n",
    "median_sample_one = sample_one['y'].median()\n",
    "print('Median = ', median_sample_one)\n",
    "standard_deviation_sample_one = sample_one['y'].std(ddof=1)\n",
    "print('Sample standard deviation = ', standard_deviation_sample_one)\n",
    "variance_sample_one = sample_one['y'].var(ddof=1)\n",
    "print('Variance = ', variance_sample_one)\n",
    "standard_error_mean_sample_one = standard_deviation_sample_one/np.sqrt(n_sample_one)\n",
    "print('Standard error of the mean = ', standard_error_mean_sample_one)"
   ]
  },
  {
   "cell_type": "code",
   "execution_count": null,
   "metadata": {},
   "outputs": [],
   "source": [
    "n_sample_two = sample_two['y'].size\n",
    "print('Count = ', n_sample_two)\n",
    "average_sample_two = sample_two['y'].mean()\n",
    "print('Average = ', average_sample_two)\n",
    "median_sample_two = sample_two['y'].median()\n",
    "print('Median = ', median_sample_two)\n",
    "standard_deviation_sample_two = sample_two['y'].std(ddof=1)\n",
    "print('Sample standard deviation = ', standard_deviation_sample_two)\n",
    "variance_sample_two = sample_two['y'].var(ddof=1)\n",
    "print('Variance = ', variance_sample_two)\n",
    "standard_error_mean_sample_two = standard_deviation_sample_two/np.sqrt(n_sample_two)\n",
    "print('Standard error of the mean = ', standard_error_mean_sample_two)"
   ]
  },
  {
   "cell_type": "markdown",
   "metadata": {},
   "source": [
    "## Lack-of-fit tests ##\n",
    "\n",
    "<span style=\"color:red\">**EDITOR NOTE**. Use \"one-sample t test\" notebook to create content.</span>"
   ]
  },
  {
   "cell_type": "markdown",
   "metadata": {},
   "source": [
    "# <a id='hypothesis-test-method'></a> Hypothesis test method #\n",
    "\n",
    "The two-sample t test (Snedecor and Cochran 1989) is used to determine if two sample averages are different.\n",
    "\n",
    "**Example**. Is the average of a new supplier different from the current supplier?\n",
    "\n",
    "To test whether the average of one sample is different from another sample.\n",
    "\n",
    "H<sub>o</sub>: $\\overline{y}_1$ = $\\overline{y}_2$<br />\n",
    "H<sub>a</sub>: $\\overline{y}_1$ ≠ $\\overline{y}_2$<br />"
   ]
  },
  {
   "cell_type": "markdown",
   "metadata": {},
   "source": [
    "## Variances of each sample are assumed to be equal ##\n",
    "\n",
    "The calculated value is defined as:\n",
    "\n",
    "$$\n",
    "\\begin{aligned}\n",
    "    t_\\text{calculated} & = \\frac{\\overline{y}_1-\\overline{y}_2}\n",
    "        {s_p \\sqrt{\\frac{1}{n_1} + \\frac{1}{n_2}}} \\\\\n",
    "    s_p & = \\sqrt{\\frac{(n_1 - 1)s^2_1 + (n_2 - 1)s^2_2}{n_1 + n_2 - 2}} \\\\\n",
    "\\end{aligned}\n",
    "$$\n",
    "\n",
    "The critical value is defined as:\n",
    "\n",
    "$$\n",
    "\\begin{aligned}\n",
    "    t_\\text{critical} = t_{1- \\alpha / 2 \\, \\text{,} \\, \\nu} \\\\\n",
    "\\end{aligned}\n",
    "$$\n",
    "\n",
    "where:\n",
    "\n",
    "$$\n",
    "\\begin{align*}\n",
    "    n_1                & = \\text{the number of observations in sample 1} \\\\\n",
    "    n_2                & = \\text{the number of observations in sample 2} \\\\\n",
    "    \\overline{y}_1     & = \\text{the average of sample 1} \\\\\n",
    "    \\overline{y}_2     & = \\text{the average of sample 2} \\\\\n",
    "    s^2_1              & = \\text{the variance of sample 1} \\\\\n",
    "    s^2_2              & = \\text{the variance of sample 2} \\\\\n",
    "    t_{1- \\alpha / 2 \\, \\text{,} \\, \\nu} & = \\text{the $100(1-\\alpha/2)$ percentile of the t distribution with $\\nu$ degrees of freedom} \\\\\n",
    "    \\nu                & = n_1 + n_2 - 2 \\\\\n",
    "\\end{align*}\n",
    "$$\n",
    "\n",
    "Reject H<sub>o</sub> if |t<sub>calculated</sub>| > t<sub>critical</sub>."
   ]
  },
  {
   "cell_type": "code",
   "execution_count": null,
   "metadata": {},
   "outputs": [],
   "source": [
    "# assumes equal variances\n",
    "n_one = len(sample_one['y'])\n",
    "n_two = len(sample_two['y'])\n",
    "average_one = np.mean(sample_one['y'])\n",
    "average_two = np.mean(sample_two['y'])\n",
    "delta_one_two = average_one - average_two\n",
    "variance_one = np.var(sample_one['y'], ddof=1)\n",
    "standard_deviation_one = np.std(sample_one['y'], ddof=1)\n",
    "variance_two = np.var(sample_two['y'], ddof=1)\n",
    "standard_deviation_two = np.std(sample_two['y'], ddof=1)\n",
    "va = variance_one / n_one\n",
    "vb = variance_two / n_two\n",
    "vc = n_one + n_two - 2\n",
    "ve = np.sqrt(1 / n_one + 1 / n_two)\n",
    "t_critical_equal = stats.t.isf(significance_level / 2, vc)\n",
    "standard_deviation_pooled = np.sqrt(((n_one - 1) * variance_one \\\n",
    "                                     + (n_two - 1) * variance_two) / vc)\n",
    "t_calculated_equal = (average_one - average_two) / (standard_deviation_pooled * ve)\n",
    "p_value = stats.t.sf(np.abs(t_calculated_equal), vc) * 2\n",
    "display_html('H<sub>o</sub>: average of sample 1 = average of sample 2' + '<br />' +\n",
    "             'H<sub>a</sub>: average of sample 1 ≠ average of sample 2' + '<br />' +\n",
    "             'average of sample 1 = ' + str(average_one.round(3)) + '<br />' +\n",
    "             'average of sample 2 = ' + str(average_two.round(3)) + '<br />' +\n",
    "             't<sub>calculated</sub> = ' + str(t_calculated_equal.round(3)) + '<br />' +\n",
    "             't<sub>critical</sub> = ' + str(t_critical_equal.round(3)) + '<br />' +\n",
    "             'p value for t<sub>calculated</sub> = ' + str(p_value.round(3))\n",
    "             , raw=True)\n",
    "if abs(t_calculated_equal) > t_critical_equal:\n",
    "    display_html('The average of sample 1 is ' +\n",
    "                 'statistically, significantly different from ' +\n",
    "                 'the average of sample 2, ' +\n",
    "                 'because | t<sub>calculated</sub> | > t<sub>critical</sub> .', raw=True)\n",
    "else:\n",
    "    display_html('The average of sample 1 is not ' +\n",
    "                 'statistically, significantly different from ' +\n",
    "                 'the average of sample 2, ' +\n",
    "                 'because | t<sub>calculated</sub> | < t<sub>critical</sub> .', raw=True)"
   ]
  },
  {
   "cell_type": "markdown",
   "metadata": {},
   "source": [
    "## Variances of each sample are assumed to be unequal ##\n",
    "\n",
    "The calculated value is defined as:\n",
    "\n",
    "$$\n",
    "\\begin{aligned}\n",
    "    t_\\text{calculated} = \\frac{\\overline{y}_1-\\overline{y}_2}\n",
    "        {\\sqrt{\\frac{s^2_1}{n_1} + \\frac{s^2_2}{n_2}}} \\\\\n",
    "\\end{aligned}\n",
    "$$\n",
    "\n",
    "The critical value is defined as:\n",
    "\n",
    "$$\n",
    "\\begin{aligned}\n",
    "    t_\\text{critical} = t_{1- \\alpha / 2 \\, \\text{,} \\, \\nu} \\\\\n",
    "\\end{aligned}\n",
    "$$\n",
    "\n",
    "where:\n",
    "\n",
    "$$\n",
    "\\begin{align*}\n",
    "    n_1                & = \\text{the number of observations in sample 1} \\\\\n",
    "    n_2                & = \\text{the number of observations in sample 2} \\\\\n",
    "    \\overline{y}_1     & = \\text{the average of sample 1} \\\\\n",
    "    \\overline{y}_2     & = \\text{the average of sample 2} \\\\\n",
    "    s^2_1              & = \\text{the variance of sample 1} \\\\\n",
    "    s^2_2              & = \\text{the variance of sample 2} \\\\\n",
    "    t_{1- \\alpha / 2 \\, \\text{,} \\, \\nu} & = \\text{the $100(1-\\alpha/2)$ percentile of the t distribution with $\\nu$ degrees of freedom} \\\\\n",
    "    \\nu                & = \\frac{\\left(\\frac{s^2_1}{n_1} + \\frac{s^2_2}{n_2}\\right)^2}\n",
    "        {\\frac{\\left(\\frac{s^2_1}{n_1}\\right)^2}{n_1-1} \n",
    "        + \\frac{\\left(\\frac{s^2_2}{n_2}\\right)^2}{n_2-1}} \\\\\n",
    "\\end{align*}\n",
    "$$\n",
    "\n",
    "Reject H<sub>o</sub> if |t<sub>calculated</sub>| > t<sub>critical</sub>."
   ]
  },
  {
   "cell_type": "code",
   "execution_count": null,
   "metadata": {},
   "outputs": [],
   "source": [
    "# assumes unequal variances\n",
    "t_calculated_unequal = (average_one - average_two) \\\n",
    "                / np.sqrt(variance_one / n_one + variance_two / n_two)\n",
    "vd = np.square(va + vb) / (np.square(va) / (n_one - 1) + (np.square(vb) / (n_two - 1)))\n",
    "t_critical_unequal = stats.t.isf(significance_level / 2, vd)\n",
    "p_value = stats.t.sf(np.abs(t_calculated_unequal), vd) * 2\n",
    "display_html('H<sub>o</sub>: average of sample 1 = average of sample 2' + '<br />' +\n",
    "             'H<sub>a</sub>: average of sample 1 ≠ average of sample 2' + '<br />' +\n",
    "             'average of sample 1 = ' + str(average_one.round(3)) + '<br />' +\n",
    "             'average of sample 2 = ' + str(average_two.round(3)) + '<br />' +\n",
    "             't<sub>calculated</sub> = ' + str(t_calculated_unequal.round(3)) + '<br />' +\n",
    "             't<sub>critical</sub> = ' + str(t_critical_unequal.round(3)) + '<br />' +\n",
    "             'p value for t<sub>calculated</sub> = ' + str(p_value.round(3))\n",
    "             , raw=True)\n",
    "if abs(t_calculated_unequal) > t_critical_unequal:\n",
    "    display_html('The average of sample 1 is ' +\n",
    "                 'statistically, significantly different from ' +\n",
    "                 'the average of sample 2, ' +\n",
    "                 'because | t<sub>calculated</sub> | > t<sub>critical</sub> .', raw=True)\n",
    "else:\n",
    "    display_html('The average of sample 1 is not ' +\n",
    "                 'statistically, significantly different from ' +\n",
    "                 'the average of sample 2, ' +\n",
    "                 'because | t<sub>calculated</sub> | < t<sub>critical</sub> .', raw=True)"
   ]
  },
  {
   "cell_type": "markdown",
   "metadata": {},
   "source": [
    "# <a id='confidence-interval-method'></a> Confidence interval method #\n",
    "\n",
    "For a given confidence interval of an average of a sample, if many samples are collected and the confidence interval is calculated for each sample, in the long run about 95 % of these intervals would contain the true average.\n",
    "\n",
    "The two-sample t test (Snedecor and Cochran 1989) is used to determine if the difference between the averages of two samples is not equal to zero.\n",
    "\n",
    "The hypotheses are:\n",
    "\n",
    "H<sub>o</sub>: |$\\overline{y}_1$ - $\\overline{y}_2$| = 0<br />\n",
    "H<sub>a</sub>: |$\\overline{y}_1$ - $\\overline{y}_2$| ≠ 0"
   ]
  },
  {
   "cell_type": "markdown",
   "metadata": {},
   "source": [
    "## Variances are assumed to be equal  ##\n",
    "\n",
    "### n<sub>1</sub> < 30 or n<sub>2</sub> < 30 ###\n",
    "\n",
    "The confidence limits are defined as:\n",
    "\n",
    "$$\n",
    "\\begin{aligned}\n",
    "    (\\overline{y}_1 - \\overline{y}_2) \\pm t_{1- \\alpha / 2 \\, \\text{,} \\, \\nu} \\times\n",
    "        s_p \\sqrt{\\frac{1}{n_1} + \\frac{1}{n_2}} \\\\\n",
    "\\end{aligned}\n",
    "$$\n",
    "\n",
    "where:\n",
    "\n",
    "$$\n",
    "\\begin{align*}\n",
    "    s_p & = \\text{the pooled standard deviation} \\\\\n",
    "        & = \\sqrt{\\frac{(n_1 - 1)s^2_1 + (n_2 - 1)s^2_2}{n_1 + n_2 - 2}} \\\\\n",
    "    n_1                & = \\text{the number of observations in sample 1} \\\\\n",
    "    n_2                & = \\text{the number of observations in sample 2} \\\\\n",
    "    \\overline{y}_1     & = \\text{the average of sample 1} \\\\\n",
    "    \\overline{y}_2     & = \\text{the average of sample 2} \\\\\n",
    "    s^2_1              & = \\text{the variance of sample 1} \\\\\n",
    "    s^2_2              & = \\text{the variance of sample 2} \\\\\n",
    "    t_{1- \\alpha / 2 \\, \\text{,} \\, n-1} & = \\text{the $100(1-\\alpha/2)$ percentile of the t distribution with $n-1$ degrees of freedom} \\\\\n",
    "    \\nu                         & = n_1 + n_2 - 2 \\\\\n",
    "    \\alpha                      & = \\text{the desired significance level}\n",
    "\\end{align*}\n",
    "$$\n",
    "\n",
    "Reject H<sub>o</sub> if 0 is not within the confidence interval."
   ]
  },
  {
   "cell_type": "code",
   "execution_count": null,
   "metadata": {
    "collapsed": true
   },
   "outputs": [],
   "source": [
    "n_one = len(sample_one['y'])\n",
    "n_two = len(sample_two['y'])\n",
    "average_one = np.mean(sample_one['y'])\n",
    "average_two = np.mean(sample_two['y'])\n",
    "delta_one_two = average_one - average_two\n",
    "variance_one = np.var(sample_one['y'], ddof=1)\n",
    "standard_deviation_one = np.std(sample_one['y'], ddof=1)\n",
    "variance_two = np.var(sample_two['y'], ddof=1)\n",
    "standard_deviation_two = np.std(sample_two['y'], ddof=1)\n",
    "va = variance_one / n_one\n",
    "vb = variance_two / n_two\n",
    "vc = n_one + n_two - 2\n",
    "ve = np.sqrt(1 / n_one + 1 / n_two)\n",
    "t_critical_equal = stats.t.isf(significance_level / 2, vc)\n",
    "standard_deviation_pooled = np.sqrt(((n_one - 1) * variance_one \\\n",
    "                                     + (n_two - 1) * variance_two) / vc)"
   ]
  },
  {
   "cell_type": "code",
   "execution_count": null,
   "metadata": {},
   "outputs": [],
   "source": [
    "lower_limit = delta_one_two - t_critical_equal * standard_deviation_pooled * ve\n",
    "upper_limit = delta_one_two + t_critical_equal * standard_deviation_pooled * ve\n",
    "if 0 < lower_limit or 0 > upper_limit:\n",
    "    display_html('The two averages are statistically, significantly different ' \\\n",
    "                 'because 0 is not contained within the confidence interval ' + \\\n",
    "                 '(' + str(lower_limit.round(3)) + ', ' + str(upper_limit.round(3)) + ')' \\\n",
    "                 ' of the difference ' + str(delta_one_two.round(3)) + '.', raw=True)\n",
    "else:\n",
    "    display_html('The two averages are not statistically, significantly different ' \\\n",
    "                 'because 0 is contained within the confidence interval ' + \\\n",
    "                 '(' + str(lower_limit.round(3)) + ', ' + str(upper_limit.round(3)) + ')' \\\n",
    "                 ' of the difference ' + str(delta_one_two.round(3)) + '.', raw=True)"
   ]
  },
  {
   "cell_type": "markdown",
   "metadata": {},
   "source": [
    "## Variances are assumed to be unequal ##\n",
    "\n",
    "<span style=\"color:red\">**EDITOR NOTE**. Use \"one-sample t test\" notebook to create content. Is there such a scenario? What does Minitab do?</span>"
   ]
  },
  {
   "cell_type": "markdown",
   "metadata": {},
   "source": [
    "# <a id='references'></a> References #\n",
    "\n",
    "- [Snedecor, George W., and William G. Cochran. 1989. *Statistical Methods*. Eighth Edition. Iowa State University Press](http://www.amazon.com/Statistical-Methods-George-W-Snedecor/dp/0813815614)\n",
    "- [Minitab. “Hospital comparison data.”](http://support.minitab.com/en-us/datasets/basic-statistics-data-sets/hospital-comparison-data/)\n",
    "- [NIST. Engineering Statistics Handbook.](http://www.itl.nist.gov/div898/handbook/eda/section3/eda353.htm)\n",
    "- [Wikipedia. “Confidence interval.”](https://en.wikipedia.org/wiki/Confidence_interval)\n",
    "- [Wikipedia. “Two-sample t-test”](https://en.wikipedia.org/wiki/Student%27s_t-test#Independent_two-sample_t-test)\n",
    "- [Wikipedia. “Normal probability plot.”](https://en.wikipedia.org/wiki/Normal_probability_plot)"
   ]
  },
  {
   "cell_type": "markdown",
   "metadata": {},
   "source": [
    "# <a id='support'></a> Support #"
   ]
  },
  {
   "cell_type": "markdown",
   "metadata": {},
   "source": [
    "## Python librairies ##\n",
    "\n",
    "- [matplotlib](https://github.com/matplotlib/matplotlib)\n",
    "- [numpy](https://github.com/numpy/numpy)\n",
    "- [pandas](https://github.com/pydata/pandas)\n",
    "- [scipy](https://github.com/scipy/scipy)\n",
    "\n",
    "<span style=\"color:red\">**EDITOR NOTE**. Cold I use statsmodels?"
   ]
  },
  {
   "cell_type": "markdown",
   "metadata": {},
   "source": [
    "## Enhancements ##\n",
    "\n",
    "- Code to check the assumptions, for example, test for equal variances.\n",
    "- Two-sample t test one-sided.\n",
    "    - $\\overline{y}_1 > \\overline{y}_2$\n",
    "    - $\\overline{y}_1 < \\overline{y}_2$\n",
    "- Two-sample t test two-sided, confidence interval method, variances equal, n<sub>1</sub> > 30 and n<sub>2</sub> > 30, using:\n",
    "\n",
    "$$\n",
    "\\begin{aligned}\n",
    "    (\\overline{y}_1 - \\overline{y}_2) \\pm z \\times\n",
    "        s_p \\sqrt{\\frac{1}{n_1} + \\frac{1}{n_2}} \\\\\n",
    "\\end{aligned}\n",
    "$$\n",
    "\n",
    "- Two-sample t test two-sided, confidence interval method, variances unequal, n<sub>1</sub> < 30 or n<sub>2</sub> < 30, using:\n",
    "- Two-sample t test two-sided, confidence interval method, variances unequal, n<sub>1</sub> > 30 and n<sub>2</sub> > 30, using:\n",
    "- Two-sample t test for difference of a certain size.\n",
    "- Add more description to the graphical analyses."
   ]
  },
  {
   "cell_type": "markdown",
   "metadata": {},
   "source": [
    "## Data sets ##\n",
    "\n",
    "These data sets were used to test this notebook. They can also be used as examples for further study.\n",
    "\n",
    "- [Minitab. “Hospital comparison data.”](minitab_hospital_comparison.csv)\n",
    "- [NIST. AUTO83B.DAT. “Miles per US gallon, US v. Japan, cars.”](nist_us_japan_car_mpg.csv)"
   ]
  },
  {
   "cell_type": "markdown",
   "metadata": {},
   "source": [
    "# Colophon #\n",
    "\n",
    "This notebook was created with [Jupyter Notebook](http://jupyter.org/) software and the [Python programming language](https://www.python.org/) kernel.\n",
    "\n",
    "Last updated 2016.12.26.\n",
    "\n",
    "<a href=\"mailto:gilles.pilon@forteconsultants.ca\">Gilles Pilon</a>."
   ]
  }
 ],
 "metadata": {
  "kernelspec": {
   "display_name": "Python 3",
   "language": "python",
   "name": "python3"
  },
  "language_info": {
   "codemirror_mode": {
    "name": "ipython",
    "version": 3
   },
   "file_extension": ".py",
   "mimetype": "text/x-python",
   "name": "python",
   "nbconvert_exporter": "python",
   "pygments_lexer": "ipython3",
   "version": "3.6.2"
  }
 },
 "nbformat": 4,
 "nbformat_minor": 1
}
